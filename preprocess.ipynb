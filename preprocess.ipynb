{
 "cells": [
  {
   "cell_type": "code",
   "execution_count": 11,
   "id": "77afb58a-d17f-4812-aded-f392c3cd9331",
   "metadata": {},
   "outputs": [],
   "source": [
    "import pandas as pd\n",
    "import json\n",
    "\n",
    "df1 = pd.read_csv('hotel_bookings.csv')"
   ]
  },
  {
   "cell_type": "code",
   "execution_count": 13,
   "id": "0cf523b1-c91e-495f-918c-488092c11d63",
   "metadata": {},
   "outputs": [],
   "source": [
    "df1['children'] = df1['children'].fillna(0)\n",
    "df1['babies'] = df1['babies'].fillna(0)\n",
    "df1['country'] = df1['country'].fillna('Unknown')\n",
    "df1['agent'] = df1['agent'].fillna(0)\n",
    "df1['company'] = df1['company'].fillna(0)"
   ]
  },
  {
   "cell_type": "code",
   "execution_count": 15,
   "id": "b52056f3-c0cb-49c7-ac0a-f5b76212f3aa",
   "metadata": {},
   "outputs": [],
   "source": [
    "df1['reservation_status_date'] = pd.to_datetime(df1['reservation_status_date'], format='%d-%m-%y', errors='coerce')\n",
    "df1['arrival_date'] = pd.to_datetime(\n",
    "    df1['arrival_date_year'].astype(str) + '-' + \n",
    "    df1['arrival_date_month'] + '-' + \n",
    "    df1['arrival_date_day_of_month'].astype(str),\n",
    "    errors='coerce'\n",
    ")"
   ]
  },
  {
   "cell_type": "code",
   "execution_count": 17,
   "id": "bf3a1a79-c5b9-48cc-8acb-801459094555",
   "metadata": {},
   "outputs": [],
   "source": [
    "df1 = df1.drop(['arrival_date_year', 'arrival_date_month', 'arrival_date_day_of_month'], axis=1)\n",
    "\n",
    "df1.to_csv('cleaned_hotel_bookings.csv', index=False)"
   ]
  },
  {
   "cell_type": "code",
   "execution_count": 19,
   "id": "5cc8b445-e91b-47ff-872d-1eeadabc9062",
   "metadata": {},
   "outputs": [],
   "source": [
    "df = pd.read_csv('cleaned_hotel_bookings.csv')\n",
    "df['arrival_date'] = pd.to_datetime(df['arrival_date'])\n",
    "df['reservation_status_date'] = pd.to_datetime(df['reservation_status_date'])\n",
    "\n",
    "# 1. Revenue Trends (monthly)\n",
    "df['total_stay'] = df['stays_in_weekend_nights'] + df['stays_in_week_nights']\n",
    "df['revenue'] = df['adr'] * df['total_stay'] * (1 - df['is_canceled'])\n",
    "df['arrival_month_year'] = df['arrival_date'].dt.to_period('M')\n",
    "revenue_trends = df.groupby('arrival_month_year')['revenue'].sum().to_dict()"
   ]
  },
  {
   "cell_type": "code",
   "execution_count": 21,
   "id": "ea619e41-8f59-408c-aa97-fa1f83d1efda",
   "metadata": {},
   "outputs": [],
   "source": [
    "# 2. Cancellation Rate\n",
    "total_bookings = len(df)\n",
    "cancellations = df['is_canceled'].sum()\n",
    "cancellation_rate = (cancellations / total_bookings) * 100\n",
    "\n",
    "# 3. Geographical Distribution (top 10 countries, non-canceled)\n",
    "geo_dist = df[df['is_canceled'] == 0]['country'].value_counts().head(10).to_dict()"
   ]
  },
  {
   "cell_type": "code",
   "execution_count": 23,
   "id": "3973fb8e-207a-48ea-a501-f16991c11df9",
   "metadata": {},
   "outputs": [],
   "source": [
    "# 4. Lead Time Stats (precomputed summary)\n",
    "lead_time_stats = {\n",
    "    'mean': df['lead_time'].mean(),\n",
    "    'median': df['lead_time'].median(),\n",
    "    'max': df['lead_time'].max(),\n",
    "    'min': df['lead_time'].min()\n",
    "}\n",
    "\n",
    "# 5. Non-Mathematical Insight: Canceled Bookings by Date\n",
    "canceled_by_date = df[df['is_canceled'] == 1].groupby('reservation_status_date')['hotel'].count().to_dict()"
   ]
  },
  {
   "cell_type": "code",
   "execution_count": 25,
   "id": "ad6f9776-bc2a-4b59-8095-ff1628d72b13",
   "metadata": {},
   "outputs": [
    {
     "name": "stdout",
     "output_type": "stream",
     "text": [
      "Precomputed analytics saved to 'precomputed_analytics.json'\n"
     ]
    }
   ],
   "source": [
    "analytics_data = {\n",
    "    'revenue_trends': {str(k): v for k, v in revenue_trends.items()},  \n",
    "    'cancellation_rate': cancellation_rate,\n",
    "    'geo_distribution': geo_dist,\n",
    "    'lead_time_stats': lead_time_stats,\n",
    "    'canceled_by_date': {str(k): v for k, v in canceled_by_date.items()}  \n",
    "}\n",
    "\n",
    "with open('precomputed_analytics.json', 'w') as f:\n",
    "    json.dump(analytics_data, f, indent=4)\n",
    "\n",
    "print(\"Precomputed analytics saved to 'precomputed_analytics.json'\")"
   ]
  },
  {
   "cell_type": "code",
   "execution_count": null,
   "id": "14308fe7-411e-4975-aec3-71a87eaefede",
   "metadata": {},
   "outputs": [],
   "source": []
  }
 ],
 "metadata": {
  "kernelspec": {
   "display_name": "Python 3 (ipykernel)",
   "language": "python",
   "name": "python3"
  },
  "language_info": {
   "codemirror_mode": {
    "name": "ipython",
    "version": 3
   },
   "file_extension": ".py",
   "mimetype": "text/x-python",
   "name": "python",
   "nbconvert_exporter": "python",
   "pygments_lexer": "ipython3",
   "version": "3.12.3"
  }
 },
 "nbformat": 4,
 "nbformat_minor": 5
}
